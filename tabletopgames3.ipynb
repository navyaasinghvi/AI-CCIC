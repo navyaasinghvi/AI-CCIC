{
 "cells": [
  {
   "cell_type": "markdown",
   "id": "94c6d989-557f-48ae-b2cc-6e9e5919aa50",
   "metadata": {},
   "source": [
    "# Assume no cards have been drawn yet from a full UNO deck of 108 cards.You draw two cards in a row without replacement. What is the probability that you draw a red card first and then a red skip card second, assuming the first red card drawn is not a skip card? \n",
    "# My study- \n",
    "This study looks at the chance of drawing two specific cards in a row from a full UNO deck of 108 cards, assuming no cards have been drawn before. The sample space includes all possible pairs of cards you could draw one after the other without putting the first card back. Each trial means picking two cards in order from the deck without replacement. The outcome we want to measure is drawing a red card first (but not a skip card), and then drawing a red skip card second. There are 25 red cards total, with 2 being red skip cards. Since the first card is not a skip, after drawing it, there are still 2 red skip cards left but only 107 cards remaining in the deck. So, the chance of drawing the first red card is 25 out of 108, and the chance of then drawing a red skip card is 2 out of 107. We multiply these to find the overall probability. This shows how the multiplication rule works when the result of the first draw affects the second."
   ]
  },
  {
   "cell_type": "code",
   "execution_count": 3,
   "id": "3b13d736-91c1-45ab-9678-478082ea6ae2",
   "metadata": {
    "scrolled": true
   },
   "outputs": [
    {
     "name": "stdout",
     "output_type": "stream",
     "text": [
      "Trial 1: Drawn cards = ['other', 'red_non_skip'], Result = Fail\n",
      "Trial 2: Drawn cards = ['other', 'other'], Result = Fail\n",
      "Trial 3: Drawn cards = ['other', 'other'], Result = Fail\n",
      "Trial 4: Drawn cards = ['red_non_skip', 'other'], Result = Fail\n",
      "Trial 5: Drawn cards = ['other', 'other'], Result = Fail\n",
      "Trial 6: Drawn cards = ['other', 'other'], Result = Fail\n",
      "Trial 7: Drawn cards = ['other', 'other'], Result = Fail\n",
      "Trial 8: Drawn cards = ['other', 'other'], Result = Fail\n",
      "Trial 9: Drawn cards = ['red_non_skip', 'other'], Result = Fail\n",
      "Trial 10: Drawn cards = ['other', 'other'], Result = Fail\n",
      "Trial 11: Drawn cards = ['other', 'other'], Result = Fail\n",
      "Trial 12: Drawn cards = ['other', 'other'], Result = Fail\n",
      "Trial 13: Drawn cards = ['other', 'other'], Result = Fail\n",
      "Trial 14: Drawn cards = ['red_non_skip', 'other'], Result = Fail\n",
      "Trial 15: Drawn cards = ['red_non_skip', 'other'], Result = Fail\n",
      "Trial 16: Drawn cards = ['other', 'other'], Result = Fail\n",
      "Trial 17: Drawn cards = ['other', 'red_non_skip'], Result = Fail\n",
      "Trial 18: Drawn cards = ['other', 'other'], Result = Fail\n",
      "Trial 19: Drawn cards = ['other', 'red_non_skip'], Result = Fail\n",
      "Trial 20: Drawn cards = ['other', 'red_non_skip'], Result = Fail\n",
      "Trial 21: Drawn cards = ['other', 'other'], Result = Fail\n",
      "Trial 22: Drawn cards = ['other', 'red_non_skip'], Result = Fail\n",
      "Trial 23: Drawn cards = ['other', 'other'], Result = Fail\n",
      "Trial 24: Drawn cards = ['red_skip', 'red_non_skip'], Result = Fail\n",
      "Trial 25: Drawn cards = ['other', 'other'], Result = Fail\n",
      "Trial 26: Drawn cards = ['red_non_skip', 'other'], Result = Fail\n",
      "Trial 27: Drawn cards = ['other', 'other'], Result = Fail\n",
      "Trial 28: Drawn cards = ['other', 'other'], Result = Fail\n",
      "Trial 29: Drawn cards = ['other', 'other'], Result = Fail\n",
      "Trial 30: Drawn cards = ['red_non_skip', 'other'], Result = Fail\n",
      "Trial 31: Drawn cards = ['red_non_skip', 'other'], Result = Fail\n",
      "Trial 32: Drawn cards = ['other', 'red_non_skip'], Result = Fail\n",
      "Trial 33: Drawn cards = ['other', 'other'], Result = Fail\n",
      "Trial 34: Drawn cards = ['other', 'other'], Result = Fail\n",
      "Trial 35: Drawn cards = ['other', 'red_non_skip'], Result = Fail\n",
      "Trial 36: Drawn cards = ['other', 'other'], Result = Fail\n",
      "Trial 37: Drawn cards = ['other', 'other'], Result = Fail\n",
      "Trial 38: Drawn cards = ['other', 'other'], Result = Fail\n",
      "Trial 39: Drawn cards = ['other', 'other'], Result = Fail\n",
      "Trial 40: Drawn cards = ['other', 'other'], Result = Fail\n",
      "Trial 41: Drawn cards = ['other', 'other'], Result = Fail\n",
      "Trial 42: Drawn cards = ['red_non_skip', 'other'], Result = Fail\n",
      "Trial 43: Drawn cards = ['red_skip', 'red_non_skip'], Result = Fail\n",
      "Trial 44: Drawn cards = ['other', 'other'], Result = Fail\n",
      "Trial 45: Drawn cards = ['other', 'other'], Result = Fail\n",
      "Trial 46: Drawn cards = ['other', 'other'], Result = Fail\n",
      "Trial 47: Drawn cards = ['other', 'other'], Result = Fail\n",
      "Trial 48: Drawn cards = ['other', 'red_non_skip'], Result = Fail\n",
      "Trial 49: Drawn cards = ['other', 'other'], Result = Fail\n",
      "Trial 50: Drawn cards = ['other', 'other'], Result = Fail\n",
      "Trial 51: Drawn cards = ['other', 'red_non_skip'], Result = Fail\n",
      "Trial 52: Drawn cards = ['red_non_skip', 'red_non_skip'], Result = Fail\n",
      "Trial 53: Drawn cards = ['other', 'other'], Result = Fail\n",
      "Trial 54: Drawn cards = ['other', 'other'], Result = Fail\n",
      "Trial 55: Drawn cards = ['other', 'other'], Result = Fail\n",
      "Trial 56: Drawn cards = ['other', 'other'], Result = Fail\n",
      "Trial 57: Drawn cards = ['other', 'red_non_skip'], Result = Fail\n",
      "Trial 58: Drawn cards = ['red_non_skip', 'red_non_skip'], Result = Fail\n",
      "Trial 59: Drawn cards = ['other', 'other'], Result = Fail\n",
      "Trial 60: Drawn cards = ['red_non_skip', 'other'], Result = Fail\n",
      "Trial 61: Drawn cards = ['other', 'other'], Result = Fail\n",
      "Trial 62: Drawn cards = ['other', 'other'], Result = Fail\n",
      "Trial 63: Drawn cards = ['other', 'other'], Result = Fail\n",
      "Trial 64: Drawn cards = ['other', 'other'], Result = Fail\n",
      "Trial 65: Drawn cards = ['other', 'other'], Result = Fail\n",
      "Trial 66: Drawn cards = ['other', 'red_non_skip'], Result = Fail\n",
      "Trial 67: Drawn cards = ['other', 'other'], Result = Fail\n",
      "Trial 68: Drawn cards = ['other', 'other'], Result = Fail\n",
      "Trial 69: Drawn cards = ['other', 'other'], Result = Fail\n",
      "Trial 70: Drawn cards = ['other', 'other'], Result = Fail\n",
      "Trial 71: Drawn cards = ['other', 'other'], Result = Fail\n",
      "Trial 72: Drawn cards = ['other', 'other'], Result = Fail\n",
      "Trial 73: Drawn cards = ['other', 'other'], Result = Fail\n",
      "Trial 74: Drawn cards = ['red_non_skip', 'other'], Result = Fail\n",
      "Trial 75: Drawn cards = ['other', 'other'], Result = Fail\n",
      "Trial 76: Drawn cards = ['other', 'red_non_skip'], Result = Fail\n",
      "Trial 77: Drawn cards = ['other', 'other'], Result = Fail\n",
      "Trial 78: Drawn cards = ['other', 'other'], Result = Fail\n",
      "Trial 79: Drawn cards = ['red_non_skip', 'other'], Result = Fail\n",
      "Trial 80: Drawn cards = ['other', 'other'], Result = Fail\n",
      "Trial 81: Drawn cards = ['red_non_skip', 'other'], Result = Fail\n",
      "Trial 82: Drawn cards = ['other', 'other'], Result = Fail\n",
      "Trial 83: Drawn cards = ['other', 'red_non_skip'], Result = Fail\n",
      "Trial 84: Drawn cards = ['other', 'other'], Result = Fail\n",
      "Trial 85: Drawn cards = ['other', 'other'], Result = Fail\n",
      "Trial 86: Drawn cards = ['other', 'red_non_skip'], Result = Fail\n",
      "Trial 87: Drawn cards = ['red_non_skip', 'other'], Result = Fail\n",
      "Trial 88: Drawn cards = ['other', 'other'], Result = Fail\n",
      "Trial 89: Drawn cards = ['red_non_skip', 'other'], Result = Fail\n",
      "Trial 90: Drawn cards = ['red_non_skip', 'other'], Result = Fail\n",
      "Trial 91: Drawn cards = ['other', 'other'], Result = Fail\n",
      "Trial 92: Drawn cards = ['other', 'other'], Result = Fail\n",
      "Trial 93: Drawn cards = ['red_non_skip', 'other'], Result = Fail\n",
      "Trial 94: Drawn cards = ['other', 'other'], Result = Fail\n",
      "Trial 95: Drawn cards = ['other', 'red_non_skip'], Result = Fail\n",
      "Trial 96: Drawn cards = ['other', 'other'], Result = Fail\n",
      "Trial 97: Drawn cards = ['other', 'other'], Result = Fail\n",
      "Trial 98: Drawn cards = ['other', 'red_non_skip'], Result = Fail\n",
      "Trial 99: Drawn cards = ['other', 'other'], Result = Fail\n",
      "Trial 100: Drawn cards = ['other', 'other'], Result = Fail\n"
     ]
    },
    {
     "data": {
      "image/png": "[encoded data removed]",
      "text/plain": [
       "<Figure size 640x480 with 1 Axes>"
      ]
     },
     "metadata": {},
     "output_type": "display_data"
    },
    {
     "name": "stdout",
     "output_type": "stream",
     "text": [
      "\n",
      "Theoretical Probability: 0.003981\n",
      "Simulated Probability (100 trials): 0.000000\n"
     ]
    }
   ],
   "source": [
    "import random\n",
    "import matplotlib.pyplot as plt\n",
    "\n",
    "# Deck setup\n",
    "total_cards = 108\n",
    "red_cards = 25\n",
    "red_skip_cards = 2\n",
    "red_non_skip = red_cards - red_skip_cards\n",
    "\n",
    "# Build the deck\n",
    "deck = ['red_skip'] * red_skip_cards + ['red_non_skip'] * red_non_skip + ['other'] * (total_cards - red_cards)\n",
    "\n",
    "# Theoretical probability calculation\n",
    "theo_prob = (red_non_skip / total_cards) * (red_skip_cards / (total_cards - 1))\n",
    "\n",
    "# Simulation function with trial outputs\n",
    "def simulate_uno_draws(deck, trials=100):\n",
    "    success = 0\n",
    "    for i in range(1, trials + 1):\n",
    "        draw = random.sample(deck, 2)  # draw 2 cards without replacement\n",
    "        result = \"Success\" if draw[0] == 'red_non_skip' and draw[1] == 'red_skip' else \"Fail\"\n",
    "        print(f\"Trial {i}: Drawn cards = {draw}, Result = {result}\")\n",
    "        if result == \"Success\":\n",
    "            success += 1\n",
    "    return success / trials\n",
    "\n",
    "# Run simulation with 100 trials\n",
    "sim_prob = simulate_uno_draws(deck, trials=100)\n",
    "\n",
    "# Visualization\n",
    "plt.bar(['Theoretical', 'Simulation'], [theo_prob, sim_prob], color=['blue', 'orange'])\n",
    "plt.ylabel('Probability')\n",
    "plt.title('Probability of Drawing Red Non-Skip then Red Skip Card in UNO (100 trials)')\n",
    "plt.ylim(0, max(theo_prob, sim_prob) + 0.01)\n",
    "plt.show()\n",
    "\n",
    "print(f\"\\nTheoretical Probability: {theo_prob:.6f}\")\n",
    "print(f\"Simulated Probability (100 trials): {sim_prob:.6f}\")\n"
   ]
  },
  {
   "cell_type": "markdown",
   "id": "bccce464-e5fe-41c7-b407-7e27618943b7",
   "metadata": {},
   "source": [
    "# My answer- My study looked at the chance of drawing two cards in a row from a full UNO deck of 108 cards without putting the first card back. The first card has to be a red card that is not a skip card, and the second card has to be a red skip card. There are 23 red non-skip cards and 2 red skip cards, so the theoretical probability is about 0.004 or 0.4%. I ran a simulation with 100 trials to check this, but the simulated probability came out to 0 because I didn’t get any successful draws in those trials. This happened because the probability is really small, so it’s hard to see it happen in just 100 tries. Even though the simulation didn’t show any successes, the math still shows how unlikely it is to draw those two cards in a row, and if I ran more trials, the simulation would probably get closer to the theoretical probability."
   ]
  },
  {
   "cell_type": "code",
   "execution_count": null,
   "id": "fd68b705-f05f-43f8-b0fa-a64a1941a673",
   "metadata": {},
   "outputs": [],
   "source": []
  }
 ],
 "metadata": {
  "kernelspec": {
   "display_name": "anaconda-ai-2024.04-py310",
   "language": "python",
   "name": "conda-env-anaconda-ai-2024.04-py310-py"
  },
  "language_info": {
   "codemirror_mode": {
    "name": "ipython",
    "version": 3
   },
   "file_extension": ".py",
   "mimetype": "text/x-python",
   "name": "python",
   "nbconvert_exporter": "python",
   "pygments_lexer": "ipython3",
   "version": "3.10.13"
  }
 },
 "nbformat": 4,
 "nbformat_minor": 5
}
