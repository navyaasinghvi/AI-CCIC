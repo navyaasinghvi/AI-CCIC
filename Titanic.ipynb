{
 "cells": [
  {
   "cell_type": "markdown",
   "id": "a6737e5e-08a9-498a-83eb-969b257ebb1c",
   "metadata": {},
   "source": [
    "# Question: What percent of people had a family member on the Titanic?"
   ]
  },
  {
   "cell_type": "code",
   "execution_count": 7,
   "id": "d170eee6-7515-478e-8375-513f31f81cb4",
   "metadata": {},
   "outputs": [
    {
     "name": "stdout",
     "output_type": "stream",
     "text": [
      "4\n"
     ]
    }
   ],
   "source": [
    "x = 4\n",
    "print (x)"
   ]
  },
  {
   "cell_type": "code",
   "execution_count": 11,
   "id": "61b76c2a-8558-492f-bbb0-e48fc55612bc",
   "metadata": {
    "scrolled": true
   },
   "outputs": [
    {
     "name": "stdout",
     "output_type": "stream",
     "text": [
      "<class 'pandas.core.frame.DataFrame'>\n",
      "RangeIndex: 892 entries, 0 to 891\n",
      "Data columns (total 12 columns):\n",
      " #   Column  Non-Null Count  Dtype \n",
      "---  ------  --------------  ----- \n",
      " 0   0       892 non-null    object\n",
      " 1   1       892 non-null    object\n",
      " 2   2       892 non-null    object\n",
      " 3   3       892 non-null    object\n",
      " 4   4       892 non-null    object\n",
      " 5   5       715 non-null    object\n",
      " 6   6       892 non-null    object\n",
      " 7   7       892 non-null    object\n",
      " 8   8       892 non-null    object\n",
      " 9   9       892 non-null    object\n",
      " 10  10      205 non-null    object\n",
      " 11  11      890 non-null    object\n",
      "dtypes: object(12)\n",
      "memory usage: 83.8+ KB\n"
     ]
    }
   ],
   "source": [
    "import pandas as pd\n",
    "\n",
    "df = pd.read_csv(\"titanic.csv\", encoding='utf-8')\n",
    "df = pd.read_csv(\"titanic.csv\", header=None)\n",
    "df.info()"
   ]
  },
  {
   "cell_type": "code",
   "execution_count": null,
   "id": "1c65c7ce-5aad-4c3b-90d7-9f162c346a8f",
   "metadata": {},
   "outputs": [],
   "source": []
  },
  {
   "cell_type": "code",
   "execution_count": null,
   "id": "e05c6af3-adab-4948-b448-e1989e04d4b9",
   "metadata": {},
   "outputs": [],
   "source": []
  },
  {
   "cell_type": "code",
   "execution_count": null,
   "id": "57582c4c-f046-498a-8275-71404734932f",
   "metadata": {},
   "outputs": [],
   "source": []
  }
 ],
 "metadata": {
  "kernelspec": {
   "display_name": "anaconda-ai-2024.04-py310",
   "language": "python",
   "name": "conda-env-anaconda-ai-2024.04-py310-py"
  },
  "language_info": {
   "codemirror_mode": {
    "name": "ipython",
    "version": 3
   },
   "file_extension": ".py",
   "mimetype": "text/x-python",
   "name": "python",
   "nbconvert_exporter": "python",
   "pygments_lexer": "ipython3",
   "version": "3.10.13"
  }
 },
 "nbformat": 4,
 "nbformat_minor": 5
}
